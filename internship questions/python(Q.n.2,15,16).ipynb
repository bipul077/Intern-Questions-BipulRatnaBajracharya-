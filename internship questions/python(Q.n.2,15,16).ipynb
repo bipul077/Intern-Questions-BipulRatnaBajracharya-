{
 "cells": [
  {
   "cell_type": "code",
   "execution_count": 2,
   "id": "5f8a3621",
   "metadata": {},
   "outputs": [
    {
     "name": "stdout",
     "output_type": "stream",
     "text": [
      "How many numbers? 35\n",
      "Fibonacci sequence:\n",
      "0\n",
      "1\n",
      "1\n",
      "2\n",
      "3\n",
      "5\n",
      "8\n",
      "13\n",
      "21\n",
      "34\n"
     ]
    }
   ],
   "source": [
    "\n",
    "number = int(input(\"How many numbers? \"))\n",
    "\n",
    "n1, n2 = 0, 1\n",
    "count = 0\n",
    "\n",
    "\n",
    "if number <= 0:\n",
    "   print(\"Please enter a positive number\")\n",
    "\n",
    "elif number == 1:\n",
    "   print(\"Fibonacci sequence upto\",number,\":\")\n",
    "   print(n1)\n",
    "\n",
    "else:\n",
    "   print(\"Fibonacci sequence:\")\n",
    "   for i in range(0,number):\n",
    "       print(n1)\n",
    "       nth = n1 + n2\n",
    "       n1 = n2\n",
    "       n2 = nth\n",
    "       if(n1>=number):\n",
    "            break;\n",
    "       else:\n",
    "           count = count+1\n",
    "       \n",
    "        "
   ]
  },
  {
   "cell_type": "code",
   "execution_count": 3,
   "id": "1f47f82b",
   "metadata": {},
   "outputs": [
    {
     "name": "stdout",
     "output_type": "stream",
     "text": [
      "The value of x after swapping: 10\n",
      "The value of y after swapping: 5\n"
     ]
    }
   ],
   "source": [
    "x = 5\n",
    "y = 10\n",
    "\n",
    "temp = x\n",
    "x = y\n",
    "y = temp\n",
    "\n",
    "print('The value of x after swapping: {}'.format(x))\n",
    "print('The value of y after swapping: {}'.format(y))"
   ]
  },
  {
   "cell_type": "code",
   "execution_count": 15,
   "id": "d4ea443f",
   "metadata": {},
   "outputs": [
    {
     "name": "stdout",
     "output_type": "stream",
     "text": [
      "10\n",
      "8\n",
      "6\n"
     ]
    }
   ],
   "source": [
    "for i in range(10,5,-2):\n",
    "    print(i)"
   ]
  },
  {
   "cell_type": "code",
   "execution_count": 17,
   "id": "59361798",
   "metadata": {},
   "outputs": [
    {
     "name": "stdout",
     "output_type": "stream",
     "text": [
      "Unsorted list is,\n",
      "[50, 62, 28, 34, 22, 14, 23, 6]\n",
      "Sorted Array is, \n",
      "[6, 14, 22, 23, 28, 34, 50, 62]\n"
     ]
    }
   ],
   "source": [
    "def bubblesort(elements):\n",
    "    swapped = False\n",
    "\n",
    "    for n in range(len(elements)-1, 0, -1):\n",
    "        for i in range(n):\n",
    "            if elements[i] > elements[i + 1]:\n",
    "                swapped = True\n",
    "              \n",
    "                elements[i], elements[i + 1] = elements[i + 1], elements[i]       \n",
    "        if not swapped:\n",
    "          \n",
    "            return\n",
    " \n",
    "elements = [50, 62, 28, 34, 22, 14, 23, 6]\n",
    " \n",
    "print(\"Unsorted list is,\")\n",
    "print(elements)\n",
    "bubblesort(elements)\n",
    "print(\"Sorted Array is, \")\n",
    "print(elements)"
   ]
  },
  {
   "cell_type": "code",
   "execution_count": null,
   "id": "9213c1d1",
   "metadata": {},
   "outputs": [],
   "source": []
  }
 ],
 "metadata": {
  "kernelspec": {
   "display_name": "Python 3 (ipykernel)",
   "language": "python",
   "name": "python3"
  },
  "language_info": {
   "codemirror_mode": {
    "name": "ipython",
    "version": 3
   },
   "file_extension": ".py",
   "mimetype": "text/x-python",
   "name": "python",
   "nbconvert_exporter": "python",
   "pygments_lexer": "ipython3",
   "version": "3.9.7"
  }
 },
 "nbformat": 4,
 "nbformat_minor": 5
}
